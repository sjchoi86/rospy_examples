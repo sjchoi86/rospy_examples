{
 "cells": [
  {
   "cell_type": "markdown",
   "metadata": {},
   "source": [
    "### Control Baxter in Gazebo \n",
    "[ROS-Gazebo-Baxter simulation Installation Guide](http://enginius.tistory.com/739)"
   ]
  },
  {
   "cell_type": "code",
   "execution_count": 1,
   "metadata": {},
   "outputs": [
    {
     "name": "stdout",
     "output_type": "stream",
     "text": [
      "Packages loaded\n"
     ]
    }
   ],
   "source": [
    "import rospy,rosnode,time\n",
    "import tf # This is tf in ROS\n",
    "import baxter_interface\n",
    "import numpy as np\n",
    "from baxter_interface import CHECK_VERSION\n",
    "np.set_printoptions(precision=3)\n",
    "print (\"Packages loaded\")"
   ]
  },
  {
   "cell_type": "markdown",
   "metadata": {},
   "source": [
    "#### Check existing ROS nodes"
   ]
  },
  {
   "cell_type": "code",
   "execution_count": 2,
   "metadata": {},
   "outputs": [
    {
     "name": "stdout",
     "output_type": "stream",
     "text": [
      "ROS nodes:\n",
      " [0] /robot_state_publisher\n",
      " [1] /baxter_emulator\n",
      " [2] /baxter_sim_kinematics_left\n",
      " [3] /base_to_world\n",
      " [4] /rosout\n",
      " [5] /gazebo_gui\n",
      " [6] /baxter_sim_kinematics_right\n",
      " [7] /baxter_sim_io\n",
      " [8] /gazebo\n"
     ]
    }
   ],
   "source": [
    "print (\"ROS nodes:\")\n",
    "for _nIdx,_node in enumerate(rosnode.get_node_names()):\n",
    "    print (\" [%d] %s\"%(_nIdx,_node))"
   ]
  },
  {
   "cell_type": "markdown",
   "metadata": {},
   "source": [
    "#### Init ROS node"
   ]
  },
  {
   "cell_type": "code",
   "execution_count": 3,
   "metadata": {},
   "outputs": [
    {
     "name": "stdout",
     "output_type": "stream",
     "text": [
      "[baxter_ctrl] initialized.\n"
     ]
    }
   ],
   "source": [
    "nodeName = 'baxter_ctrl'\n",
    "rospy.init_node(nodeName)\n",
    "print (\"[%s] initialized.\"%(nodeName))"
   ]
  },
  {
   "cell_type": "markdown",
   "metadata": {},
   "source": [
    "#### Check ROS nodes so that '/baxter_ctrl' is properly initialized"
   ]
  },
  {
   "cell_type": "code",
   "execution_count": 4,
   "metadata": {},
   "outputs": [
    {
     "name": "stdout",
     "output_type": "stream",
     "text": [
      "ROS nodes:\n",
      " [0] /robot_state_publisher\n",
      " [1] /baxter_emulator\n",
      " [2] /baxter_sim_kinematics_left\n",
      " [3] /base_to_world\n",
      " [4] /rosout\n",
      " [5] /gazebo_gui\n",
      " [6] /baxter_sim_kinematics_right\n",
      " [7] /baxter_ctrl\n",
      " [8] /baxter_sim_io\n",
      " [9] /gazebo\n"
     ]
    }
   ],
   "source": [
    "print (\"ROS nodes:\")\n",
    "for _nIdx,_node in enumerate(rosnode.get_node_names()):\n",
    "    print (\" [%d] %s\"%(_nIdx,_node))"
   ]
  },
  {
   "cell_type": "markdown",
   "metadata": {},
   "source": [
    "#### Initailize Baxter"
   ]
  },
  {
   "cell_type": "code",
   "execution_count": 5,
   "metadata": {},
   "outputs": [
    {
     "name": "stdout",
     "output_type": "stream",
     "text": [
      "[INFO] [1533165664.847233, 3592.001000]: Robot Enabled\n",
      "Baxter is [ON].\n"
     ]
    }
   ],
   "source": [
    "rs = baxter_interface.RobotEnable(CHECK_VERSION)\n",
    "rs.enable()\n",
    "print (\"Baxter is [%s].\"%('ON' if rs.state().enabled else 'OFF'))"
   ]
  },
  {
   "cell_type": "markdown",
   "metadata": {},
   "source": [
    "#### Get left and right limbs of Baxter "
   ]
  },
  {
   "cell_type": "code",
   "execution_count": 6,
   "metadata": {},
   "outputs": [
    {
     "name": "stdout",
     "output_type": "stream",
     "text": [
      "Left limb joint names:\n",
      " [0] left_s0\n",
      " [1] left_s1\n",
      " [2] left_e0\n",
      " [3] left_e1\n",
      " [4] left_w0\n",
      " [5] left_w1\n",
      " [6] left_w2\n",
      "Right limb joint names:\n",
      " [0] right_s0\n",
      " [1] right_s1\n",
      " [2] right_e0\n",
      " [3] right_e1\n",
      " [4] right_w0\n",
      " [5] right_w1\n",
      " [6] right_w2\n"
     ]
    }
   ],
   "source": [
    "leftLimb = baxter_interface.Limb('left')\n",
    "rightLimb = baxter_interface.Limb('right')\n",
    "print (\"Left limb joint names:\")\n",
    "for _nIdx,_name in enumerate(leftLimb.joint_names()):\n",
    "    print (\" [%d] %s\"%(_nIdx,_name))\n",
    "print (\"Right limb joint names:\")\n",
    "for _nIdx,_name in enumerate(rightLimb.joint_names()):\n",
    "    print (\" [%d] %s\"%(_nIdx,_name))"
   ]
  },
  {
   "cell_type": "markdown",
   "metadata": {},
   "source": [
    "#### Get joint angles of Baxter"
   ]
  },
  {
   "cell_type": "code",
   "execution_count": 7,
   "metadata": {},
   "outputs": [],
   "source": [
    "def get_jointAngles(_limb):\n",
    "    cAngles = _limb.joint_angles()\n",
    "    jointAngles = np.zeros(len(cAngles))\n",
    "    for _nIdx,_name in enumerate(_limb.joint_names()):\n",
    "        jointAngles[_nIdx] = 180/np.pi*cAngles[_name]\n",
    "    return jointAngles"
   ]
  },
  {
   "cell_type": "code",
   "execution_count": 8,
   "metadata": {},
   "outputs": [
    {
     "name": "stdout",
     "output_type": "stream",
     "text": [
      "Left limb joint values:\n",
      "[  97.499   59.989  174.991   87.942  175.268   21.099  175.267]\n",
      "Right limb joint values:\n",
      "[  17.42    59.989  174.991  149.999  175.268   75.547  175.267]\n"
     ]
    }
   ],
   "source": [
    "print (\"Left limb joint values:\")\n",
    "print(get_jointAngles(leftLimb))\n",
    "print (\"Right limb joint values:\")\n",
    "print(get_jointAngles(rightLimb))"
   ]
  },
  {
   "cell_type": "markdown",
   "metadata": {},
   "source": [
    "#### Get end-effector of Baxter"
   ]
  },
  {
   "cell_type": "code",
   "execution_count": 9,
   "metadata": {},
   "outputs": [],
   "source": [
    "def get_ef(_limb):\n",
    "    efP = _limb.endpoint_pose()['position']\n",
    "    efQ = _limb.endpoint_pose()['orientation']\n",
    "    efE = tf.transformations.euler_from_quaternion(efQ)\n",
    "    # End-effector position\n",
    "    efP = np.asarray([efP.x,efP.y,efP.z])\n",
    "    # End-effector Euler angle\n",
    "    efE = np.asarray(efE)*180.0/np.pi\n",
    "    return efP,efQ,efE"
   ]
  },
  {
   "cell_type": "code",
   "execution_count": 11,
   "metadata": {},
   "outputs": [
    {
     "name": "stdout",
     "output_type": "stream",
     "text": [
      "Left hand position:[-0.79,0.84,0.33] Euler angle:[58.70,-76.65,-93.97].\n",
      "Right hand position:[0.66,-0.54,0.58] Euler angle:[26.12,-73.74,125.62].\n"
     ]
    }
   ],
   "source": [
    "leftEfP,leftEfQ,leftEfE = get_ef(leftLimb)\n",
    "rightEfP,rightEfQ,rightEfE = get_ef(rightLimb)\n",
    "print (\"Left hand position:[%.2f,%.2f,%.2f] Euler angle:[%.2f,%.2f,%.2f].\"%\n",
    "       (leftEfP[0],leftEfP[1],leftEfP[2],leftEfE[0],leftEfE[1],leftEfE[2]))\n",
    "print (\"Right hand position:[%.2f,%.2f,%.2f] Euler angle:[%.2f,%.2f,%.2f].\"%\n",
    "       (rightEfP[0],rightEfP[1],rightEfP[2],rightEfE[0],rightEfE[1],rightEfE[2]))"
   ]
  },
  {
   "cell_type": "markdown",
   "metadata": {},
   "source": [
    "#### Control Baxter (random position)"
   ]
  },
  {
   "cell_type": "code",
   "execution_count": 122,
   "metadata": {},
   "outputs": [],
   "source": [
    "def set_jointAngles(_limb,_jointAngles):\n",
    "    cAngles = _limb.joint_angles() # Get current angle \n",
    "    for _nIdx,_name in enumerate(_limb.joint_names()):\n",
    "        if _jointAngles[_nIdx] == -1:\n",
    "            cAngles[_name] = cAngles[_name] # Don't change \n",
    "        else:\n",
    "            cAngles[_name] = _jointAngles[_nIdx]*np.pi/180.0\n",
    "    _limb.set_joint_positions(cAngles)"
   ]
  },
  {
   "cell_type": "code",
   "execution_count": 242,
   "metadata": {},
   "outputs": [],
   "source": [
    "# Set zero position\n",
    "set_jointAngles(leftLimb,np.zeros(7))\n",
    "set_jointAngles(rightLimb,np.zeros(7))"
   ]
  },
  {
   "cell_type": "code",
   "execution_count": 118,
   "metadata": {},
   "outputs": [],
   "source": [
    "# Set random postion\n",
    "randAngles = 360*np.random.rand(7)\n",
    "set_jointAngles(leftLimb,randAngles)\n",
    "randAngles = 360*np.random.rand(7)\n",
    "set_jointAngles(rightLimb,randAngles)"
   ]
  },
  {
   "cell_type": "code",
   "execution_count": 206,
   "metadata": {},
   "outputs": [],
   "source": [
    "# Change one joint of right angle at a time \n",
    "angles = 0*np.ones(7)\n",
    "angles[6] = 90\n",
    "set_jointAngles(rightLimb,angles)"
   ]
  },
  {
   "cell_type": "code",
   "execution_count": 241,
   "metadata": {},
   "outputs": [],
   "source": [
    "# Change one joint of left angle at a time \n",
    "angles = 0*np.ones(7)\n",
    "angles[5] = 90\n",
    "set_jointAngles(leftLimb,angles)"
   ]
  },
  {
   "cell_type": "code",
   "execution_count": null,
   "metadata": {},
   "outputs": [],
   "source": []
  }
 ],
 "metadata": {
  "kernelspec": {
   "display_name": "Python 2",
   "language": "python",
   "name": "python2"
  },
  "language_info": {
   "codemirror_mode": {
    "name": "ipython",
    "version": 2
   },
   "file_extension": ".py",
   "mimetype": "text/x-python",
   "name": "python",
   "nbconvert_exporter": "python",
   "pygments_lexer": "ipython2",
   "version": "2.7.12"
  }
 },
 "nbformat": 4,
 "nbformat_minor": 2
}
