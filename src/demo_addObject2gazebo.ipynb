{
 "cells": [
  {
   "cell_type": "markdown",
   "metadata": {},
   "source": [
    "### Add objects to Gazebo"
   ]
  },
  {
   "cell_type": "code",
   "execution_count": 1,
   "metadata": {},
   "outputs": [
    {
     "name": "stdout",
     "output_type": "stream",
     "text": [
      "Package loaded\n"
     ]
    }
   ],
   "source": [
    "import rospy,rosnode,tf\n",
    "from gazebo_msgs.srv import DeleteModel,SpawnModel\n",
    "from geometry_msgs.msg import *\n",
    "print (\"Package loaded\")"
   ]
  },
  {
   "cell_type": "markdown",
   "metadata": {},
   "source": [
    "#### Check ros node"
   ]
  },
  {
   "cell_type": "code",
   "execution_count": 2,
   "metadata": {},
   "outputs": [
    {
     "name": "stdout",
     "output_type": "stream",
     "text": [
      "ROS nodes:\n",
      " [0] /robot_state_publisher\n",
      " [1] /baxter_emulator\n",
      " [2] /baxter_sim_kinematics_left\n",
      " [3] /base_to_world\n",
      " [4] /rosout\n",
      " [5] /gazebo_gui\n",
      " [6] /baxter_sim_kinematics_right\n",
      " [7] /baxter_ctrl\n",
      " [8] /baxter_sim_io\n",
      " [9] /gazebo\n"
     ]
    }
   ],
   "source": [
    "print (\"ROS nodes:\")\n",
    "for _nIdx,_node in enumerate(rosnode.get_node_names()):\n",
    "    print (\" [%d] %s\"%(_nIdx,_node))"
   ]
  },
  {
   "cell_type": "markdown",
   "metadata": {},
   "source": [
    "#### Initialize ros node "
   ]
  },
  {
   "cell_type": "code",
   "execution_count": 3,
   "metadata": {},
   "outputs": [
    {
     "name": "stdout",
     "output_type": "stream",
     "text": [
      "Got it.\n"
     ]
    }
   ],
   "source": [
    "rospy.init_node(\"spawn_objects\")\n",
    "rospy.wait_for_service(\"gazebo/delete_model\")\n",
    "rospy.wait_for_service(\"gazebo/spawn_sdf_model\")\n",
    "print(\"Got it.\")"
   ]
  },
  {
   "cell_type": "markdown",
   "metadata": {},
   "source": [
    "#### Check ros node"
   ]
  },
  {
   "cell_type": "code",
   "execution_count": 4,
   "metadata": {},
   "outputs": [
    {
     "name": "stdout",
     "output_type": "stream",
     "text": [
      "ROS nodes:\n",
      " [0] /robot_state_publisher\n",
      " [1] /baxter_emulator\n",
      " [2] /baxter_sim_kinematics_left\n",
      " [3] /base_to_world\n",
      " [4] /rosout\n",
      " [5] /gazebo_gui\n",
      " [6] /spawn_objects\n",
      " [7] /baxter_sim_kinematics_right\n",
      " [8] /baxter_ctrl\n",
      " [9] /baxter_sim_io\n",
      " [10] /gazebo\n"
     ]
    }
   ],
   "source": [
    "print (\"ROS nodes:\")\n",
    "for _nIdx,_node in enumerate(rosnode.get_node_names()):\n",
    "    print (\" [%d] %s\"%(_nIdx,_node))"
   ]
  },
  {
   "cell_type": "markdown",
   "metadata": {},
   "source": [
    "#### Set proxies"
   ]
  },
  {
   "cell_type": "code",
   "execution_count": 5,
   "metadata": {},
   "outputs": [],
   "source": [
    "delete_model = rospy.ServiceProxy(\"gazebo/delete_model\",DeleteModel)\n",
    "spawn_model = rospy.ServiceProxy(\"gazebo/spawn_sdf_model\",SpawnModel)"
   ]
  },
  {
   "cell_type": "markdown",
   "metadata": {},
   "source": [
    "#### Open sdf file"
   ]
  },
  {
   "cell_type": "code",
   "execution_count": 28,
   "metadata": {},
   "outputs": [
    {
     "name": "stdout",
     "output_type": "stream",
     "text": [
      "SDF opend.\n"
     ]
    }
   ],
   "source": [
    "with open(\"models/box_red.sdf\", \"r\") as f: box_red = f.read()\n",
    "with open(\"models/box_green.sdf\", \"r\") as f: box_green = f.read()\n",
    "with open(\"models/box_blue.sdf\", \"r\") as f: box_blue = f.read()\n",
    "print (\"SDF opend.\")"
   ]
  },
  {
   "cell_type": "markdown",
   "metadata": {},
   "source": [
    "#### Spawn models"
   ]
  },
  {
   "cell_type": "code",
   "execution_count": 38,
   "metadata": {},
   "outputs": [
    {
     "data": {
      "text/plain": [
       "success: True\n",
       "status_message: \"SpawnModel: Successfully spawned entity\""
      ]
     },
     "execution_count": 38,
     "metadata": {},
     "output_type": "execute_result"
    }
   ],
   "source": [
    "objName = 'obj_red'\n",
    "objPose = Pose(Point(x=1,y=0,z=1),Quaternion(x=0.0,y=0.0,z=0.0,w=1.0))\n",
    "spawn_model(objName,box_red, \"\", objPose, \"world\")\n",
    "\n",
    "objName = 'obj_green'\n",
    "objPose = Pose(Point(x=2,y=0,z=1),Quaternion(x=0.0,y=0.0,z=0.0,w=1.0))\n",
    "spawn_model(objName,box_green, \"\", objPose, \"world\")\n",
    "\n",
    "objName = 'obj_blue'\n",
    "objPose = Pose(Point(x=3,y=0,z=1),Quaternion(x=0.0,y=0.0,z=0.0,w=1.0))\n",
    "spawn_model(objName,box_blue, \"\", objPose, \"world\")"
   ]
  },
  {
   "cell_type": "markdown",
   "metadata": {},
   "source": [
    "<img src=\"pics/baxter_obj.png\" height=\"200\" width=\"600\">"
   ]
  },
  {
   "cell_type": "markdown",
   "metadata": {},
   "source": [
    "#### Delete models"
   ]
  },
  {
   "cell_type": "code",
   "execution_count": 39,
   "metadata": {},
   "outputs": [
    {
     "data": {
      "text/plain": [
       "success: True\n",
       "status_message: \"DeleteModel: successfully deleted model\""
      ]
     },
     "execution_count": 39,
     "metadata": {},
     "output_type": "execute_result"
    }
   ],
   "source": [
    "objName = 'obj_red'\n",
    "delete_model(objName)\n",
    "objName = 'obj_green'\n",
    "delete_model(objName)\n",
    "objName = 'obj_blue'\n",
    "delete_model(objName)"
   ]
  },
  {
   "cell_type": "markdown",
   "metadata": {},
   "source": [
    "<img src=\"pics/baxter_noobj.png\" height=\"200\" width=\"600\">"
   ]
  },
  {
   "cell_type": "code",
   "execution_count": null,
   "metadata": {},
   "outputs": [],
   "source": []
  }
 ],
 "metadata": {
  "kernelspec": {
   "display_name": "Python 2",
   "language": "python",
   "name": "python2"
  },
  "language_info": {
   "codemirror_mode": {
    "name": "ipython",
    "version": 2
   },
   "file_extension": ".py",
   "mimetype": "text/x-python",
   "name": "python",
   "nbconvert_exporter": "python",
   "pygments_lexer": "ipython2",
   "version": "2.7.12"
  }
 },
 "nbformat": 4,
 "nbformat_minor": 2
}
